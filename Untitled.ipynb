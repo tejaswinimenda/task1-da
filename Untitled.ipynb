{
 "cells": [
  {
   "cell_type": "code",
   "execution_count": null,
   "id": "47794f9f-14e5-495d-a19f-90d1f58f8824",
   "metadata": {},
   "outputs": [],
   "source": []
  },
  {
   "cell_type": "code",
   "execution_count": 1,
   "id": "3e1dcfda-7630-4c6f-8b65-ed7a696b6766",
   "metadata": {},
   "outputs": [
    {
     "name": "stdout",
     "output_type": "stream",
     "text": [
      "[1, 3, 5, 6]\n"
     ]
    }
   ],
   "source": [
    "list = [2,1,3,5]\n",
    "list.append(4) # adds element at the end \n",
    "list.remove(2) # removes element\n",
    "list[3]=6 # modifying the list\n",
    "print (list)"
   ]
  },
  {
   "cell_type": "code",
   "execution_count": 2,
   "id": "0faee65b-3ac6-43fb-9291-0e8e0d636ef6",
   "metadata": {},
   "outputs": [
    {
     "name": "stdout",
     "output_type": "stream",
     "text": [
      "{'name': 'Viniee', 'subject': 'java', 'topic': 'dictionary'}\n"
     ]
    }
   ],
   "source": [
    "dict = { \"name\" : \"Viniee\" , \"age\" : 20 , \"subject\" : \"python\" }\n",
    "dict[\"topic\"] = \"dictionary\" #to assign or add\n",
    "dict.pop(\"age\") #to remove \n",
    "dict[\"subject\"] = \"java\" #to update or modify\n",
    "print(dict)\n",
    "\n",
    "\n",
    "         "
   ]
  },
  {
   "cell_type": "code",
   "execution_count": 6,
   "id": "04a8b3b1-20a9-45e0-9df0-a0d287019161",
   "metadata": {},
   "outputs": [
    {
     "name": "stdout",
     "output_type": "stream",
     "text": [
      "{'c', 'python', 'c++', 'sql', 'java'}\n"
     ]
    }
   ],
   "source": [
    "set= { \"python\",\"java\",\"c\",\"c++\"}\n",
    "set.add(\"sql\") #adds an element\n",
    "print(set)\n"
   ]
  },
  {
   "cell_type": "code",
   "execution_count": 8,
   "id": "c338a2b0-de6a-4f2f-befe-b76b02fa54c6",
   "metadata": {},
   "outputs": [
    {
     "name": "stdout",
     "output_type": "stream",
     "text": [
      "{1, 2, 4}\n"
     ]
    }
   ],
   "source": [
    "set = {1,2,3,4}\n",
    "set.remove(3)\n",
    "print(set)"
   ]
  },
  {
   "cell_type": "code",
   "execution_count": 1,
   "id": "018dad95-b31c-439f-9fa2-30d74051de2d",
   "metadata": {},
   "outputs": [
    {
     "name": "stdout",
     "output_type": "stream",
     "text": [
      "Updated set:  {1, 2, 3, 4, 5, 6, 7, 8, 9, 10}\n"
     ]
    }
   ],
   "source": [
    "number = {1, 2, 3, 4, 5}\n",
    "num_Dict = {6: 'Six', 7: 'Seven', 8: 'Eight',9: 'Nine', 10: 'Ten'}\n",
    "number.update(num_Dict)\n",
    "print(\"Updated set: \", number)\n"
   ]
  },
  {
   "cell_type": "code",
   "execution_count": null,
   "id": "2245495e-417d-4c13-a6cf-5b62cd634962",
   "metadata": {},
   "outputs": [],
   "source": []
  }
 ],
 "metadata": {
  "kernelspec": {
   "display_name": "Python 3 (ipykernel)",
   "language": "python",
   "name": "python3"
  },
  "language_info": {
   "codemirror_mode": {
    "name": "ipython",
    "version": 3
   },
   "file_extension": ".py",
   "mimetype": "text/x-python",
   "name": "python",
   "nbconvert_exporter": "python",
   "pygments_lexer": "ipython3",
   "version": "3.12.3"
  }
 },
 "nbformat": 4,
 "nbformat_minor": 5
}
